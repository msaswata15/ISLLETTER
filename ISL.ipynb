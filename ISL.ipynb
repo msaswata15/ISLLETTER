{
 "cells": [
  {
   "cell_type": "code",
   "execution_count": 1,
   "metadata": {},
   "outputs": [
    {
     "name": "stdout",
     "output_type": "stream",
     "text": [
      "Augmentation completed! 🎉\n"
     ]
    }
   ],
   "source": [
    "import tensorflow as tf\n",
    "from tensorflow.keras.preprocessing.image import ImageDataGenerator\n",
    "import os\n",
    "\n",
    "# Define dataset directory\n",
    "dataset_dir = \"ISL_Dataset\"\n",
    "\n",
    "# Define ImageDataGenerator with augmentations\n",
    "datagen = ImageDataGenerator(\n",
    "    rotation_range=20,      # Rotate images randomly within 20 degrees\n",
    "    width_shift_range=0.2,  # Shift width by 20%\n",
    "    height_shift_range=0.2, # Shift height by 20%\n",
    "    shear_range=0.15,       # Apply shearing\n",
    "    zoom_range=0.2,         # Random zoom by 20%\n",
    "    horizontal_flip=True,   # Flip horizontally\n",
    "    brightness_range=[0.8, 1.2],  # Vary brightness\n",
    "    fill_mode=\"nearest\"\n",
    ")\n",
    "\n",
    "# Loop through each class folder (A, B, C, ...)\n",
    "for class_name in os.listdir(dataset_dir):\n",
    "    class_path = os.path.join(dataset_dir, class_name)\n",
    "\n",
    "    # Process only if it's a directory\n",
    "    if os.path.isdir(class_path):\n",
    "        for img_name in os.listdir(class_path):\n",
    "            img_path = os.path.join(class_path, img_name)\n",
    "\n",
    "            # Load and preprocess image\n",
    "            img = tf.keras.preprocessing.image.load_img(img_path)\n",
    "            img_array = tf.keras.preprocessing.image.img_to_array(img)\n",
    "            img_array = img_array.reshape((1,) + img_array.shape)  # Reshape for augmentation\n",
    "            \n",
    "            # Generate and save augmented images in the same folder\n",
    "            i = 0\n",
    "            for batch in datagen.flow(img_array, batch_size=1, save_to_dir=class_path, \n",
    "                                      save_prefix=\"aug\", save_format=\"jpg\"):\n",
    "                i += 1\n",
    "                if i > 10:  # Generate 10 new images per original image\n",
    "                    break\n",
    "\n",
    "print(\"Augmentation completed! 🎉\")\n"
   ]
  }
 ],
 "metadata": {
  "kernelspec": {
   "display_name": "Python 3",
   "language": "python",
   "name": "python3"
  },
  "language_info": {
   "codemirror_mode": {
    "name": "ipython",
    "version": 3
   },
   "file_extension": ".py",
   "mimetype": "text/x-python",
   "name": "python",
   "nbconvert_exporter": "python",
   "pygments_lexer": "ipython3",
   "version": "3.10.11"
  }
 },
 "nbformat": 4,
 "nbformat_minor": 2
}
